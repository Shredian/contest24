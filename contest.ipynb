{
 "cells": [
  {
   "cell_type": "code",
   "execution_count": 1,
   "metadata": {
    "collapsed": true,
    "ExecuteTime": {
     "start_time": "2024-09-04T22:45:21.592713Z",
     "end_time": "2024-09-04T22:45:21.608834Z"
    }
   },
   "outputs": [],
   "source": [
    "import pandas as pd\n",
    "import matplotlib.pyplot as plt\n",
    "import seaborn as sns\n",
    "import numpy as np\n",
    "import datetime as dt"
   ]
  },
  {
   "cell_type": "markdown",
   "source": [
    "# Делал все задания по порядку\n",
    "### Не успел проставить номера вопросов, надеюсь не критично"
   ],
   "metadata": {
    "collapsed": false
   }
  },
  {
   "cell_type": "code",
   "execution_count": 2,
   "outputs": [
    {
     "data": {
      "text/plain": "   Unnamed: 0                                               name  \\\n0           0                                   Нейросети начало   \n1           1           Python 3 и PyQt 6. Разработка приложений   \n2           3  Система взаимодействия. Коммуникации в бизнес-...   \n3           4  Постановка задачи обеспечения автоматизации по...   \n4           7  Разработка и реализация портальных решений. Пр...   \n\n               author                                               link  \\\n0        Джейд Картер  https://www.litres.ru/book/dzheyd-karter/neyro...   \n1  Николай Прохоренок  https://www.litres.ru/book/vladimir-dronov/pyt...   \n2    Е. Ю. Хрусталева  https://www.litres.ru/book/e-u-hrustaleva/sist...   \n3     О. В. Тиханычев  https://www.litres.ru/book/o-v-tihanychev/post...   \n4       С. В. Маркова  https://www.litres.ru/book/pavel-lukyanov/razr...   \n\n   rating  rating_count  review_count  price                   pages  \\\n0     4.9           433            37  690.0  102 стр. 4 иллюстрации   \n1     4.7             3             1  549.0               831 стр.    \n2     4.3            10             3  250.0               130 стр.    \n3     0.0             0             0  168.0                10 стр.    \n4     0.0             0             0  350.0               166 стр.    \n\n   pages_count                                    text_of_reviews  age  year  \n0          102  ['Книга отличная. Давно хотела понять как все ...  12+  2023  \n1          831  ['Большая книга, посвященная реализации графич...   0+  2023  \n2          130  ['Полезная книга. Есть примеры оповещения поль...  12+  2019  \n3           10                                                 []   0+  2021  \n4          166                                                 []   0+  2020  ",
      "text/html": "<div>\n<style scoped>\n    .dataframe tbody tr th:only-of-type {\n        vertical-align: middle;\n    }\n\n    .dataframe tbody tr th {\n        vertical-align: top;\n    }\n\n    .dataframe thead th {\n        text-align: right;\n    }\n</style>\n<table border=\"1\" class=\"dataframe\">\n  <thead>\n    <tr style=\"text-align: right;\">\n      <th></th>\n      <th>Unnamed: 0</th>\n      <th>name</th>\n      <th>author</th>\n      <th>link</th>\n      <th>rating</th>\n      <th>rating_count</th>\n      <th>review_count</th>\n      <th>price</th>\n      <th>pages</th>\n      <th>pages_count</th>\n      <th>text_of_reviews</th>\n      <th>age</th>\n      <th>year</th>\n    </tr>\n  </thead>\n  <tbody>\n    <tr>\n      <th>0</th>\n      <td>0</td>\n      <td>Нейросети начало</td>\n      <td>Джейд Картер</td>\n      <td>https://www.litres.ru/book/dzheyd-karter/neyro...</td>\n      <td>4.9</td>\n      <td>433</td>\n      <td>37</td>\n      <td>690.0</td>\n      <td>102 стр. 4 иллюстрации</td>\n      <td>102</td>\n      <td>['Книга отличная. Давно хотела понять как все ...</td>\n      <td>12+</td>\n      <td>2023</td>\n    </tr>\n    <tr>\n      <th>1</th>\n      <td>1</td>\n      <td>Python 3 и PyQt 6. Разработка приложений</td>\n      <td>Николай Прохоренок</td>\n      <td>https://www.litres.ru/book/vladimir-dronov/pyt...</td>\n      <td>4.7</td>\n      <td>3</td>\n      <td>1</td>\n      <td>549.0</td>\n      <td>831 стр.</td>\n      <td>831</td>\n      <td>['Большая книга, посвященная реализации графич...</td>\n      <td>0+</td>\n      <td>2023</td>\n    </tr>\n    <tr>\n      <th>2</th>\n      <td>3</td>\n      <td>Система взаимодействия. Коммуникации в бизнес-...</td>\n      <td>Е. Ю. Хрусталева</td>\n      <td>https://www.litres.ru/book/e-u-hrustaleva/sist...</td>\n      <td>4.3</td>\n      <td>10</td>\n      <td>3</td>\n      <td>250.0</td>\n      <td>130 стр.</td>\n      <td>130</td>\n      <td>['Полезная книга. Есть примеры оповещения поль...</td>\n      <td>12+</td>\n      <td>2019</td>\n    </tr>\n    <tr>\n      <th>3</th>\n      <td>4</td>\n      <td>Постановка задачи обеспечения автоматизации по...</td>\n      <td>О. В. Тиханычев</td>\n      <td>https://www.litres.ru/book/o-v-tihanychev/post...</td>\n      <td>0.0</td>\n      <td>0</td>\n      <td>0</td>\n      <td>168.0</td>\n      <td>10 стр.</td>\n      <td>10</td>\n      <td>[]</td>\n      <td>0+</td>\n      <td>2021</td>\n    </tr>\n    <tr>\n      <th>4</th>\n      <td>7</td>\n      <td>Разработка и реализация портальных решений. Пр...</td>\n      <td>С. В. Маркова</td>\n      <td>https://www.litres.ru/book/pavel-lukyanov/razr...</td>\n      <td>0.0</td>\n      <td>0</td>\n      <td>0</td>\n      <td>350.0</td>\n      <td>166 стр.</td>\n      <td>166</td>\n      <td>[]</td>\n      <td>0+</td>\n      <td>2020</td>\n    </tr>\n  </tbody>\n</table>\n</div>"
     },
     "execution_count": 2,
     "metadata": {},
     "output_type": "execute_result"
    }
   ],
   "source": [
    "data = pd.read_csv(\"litres_programming_data.csv\")\n",
    "data.head(5)"
   ],
   "metadata": {
    "collapsed": false,
    "ExecuteTime": {
     "start_time": "2024-09-04T22:45:21.607836Z",
     "end_time": "2024-09-04T22:45:21.699236Z"
    }
   }
  },
  {
   "cell_type": "code",
   "execution_count": 3,
   "outputs": [
    {
     "data": {
      "text/plain": "(965, 13)"
     },
     "execution_count": 3,
     "metadata": {},
     "output_type": "execute_result"
    }
   ],
   "source": [
    "data.shape"
   ],
   "metadata": {
    "collapsed": false,
    "ExecuteTime": {
     "start_time": "2024-09-04T22:52:17.279279Z",
     "end_time": "2024-09-04T22:52:17.304349Z"
    }
   }
  },
  {
   "cell_type": "code",
   "execution_count": 6,
   "outputs": [
    {
     "data": {
      "text/plain": "Unnamed: 0         0\nname               0\nauthor             0\nlink               0\nrating             0\nrating_count       0\nreview_count       0\nprice              0\npages              0\npages_count        0\ntext_of_reviews    0\nage                0\nyear               0\ndtype: int64"
     },
     "execution_count": 6,
     "metadata": {},
     "output_type": "execute_result"
    }
   ],
   "source": [
    "data.isnull().sum()"
   ],
   "metadata": {
    "collapsed": false,
    "ExecuteTime": {
     "start_time": "2024-09-04T22:53:07.230988Z",
     "end_time": "2024-09-04T22:53:07.247942Z"
    }
   }
  },
  {
   "cell_type": "raw",
   "source": [
    "Пропусков нет"
   ],
   "metadata": {
    "collapsed": false
   }
  },
  {
   "cell_type": "code",
   "execution_count": 12,
   "outputs": [
    {
     "data": {
      "text/plain": "Unnamed: 0           int64\nname                object\nauthor              object\nlink                object\nrating             float64\nrating_count         int64\nreview_count         int64\nprice              float64\npages               object\npages_count          int64\ntext_of_reviews     object\nage                  int64\nyear                 int64\ndtype: object"
     },
     "execution_count": 12,
     "metadata": {},
     "output_type": "execute_result"
    }
   ],
   "source": [
    "def age_change(age):\n",
    "    return int(age[:-1])\n",
    "\n",
    "data['age'] = data['age'].apply(age_change)\n",
    "\n",
    "data.dtypes\n"
   ],
   "metadata": {
    "collapsed": false,
    "ExecuteTime": {
     "start_time": "2024-09-04T23:02:35.083202Z",
     "end_time": "2024-09-04T23:02:35.105143Z"
    }
   }
  },
  {
   "cell_type": "code",
   "execution_count": 8,
   "outputs": [
    {
     "data": {
      "text/plain": "        Unnamed: 0      rating  rating_count  review_count        price  \\\ncount   965.000000  965.000000    965.000000    965.000000   965.000000   \nmean    594.935751    2.543420     10.338860      1.603109   348.744021   \nstd     347.276914    2.193727     36.058249      3.134103   279.907683   \nmin       0.000000    0.000000      0.000000      0.000000    40.000000   \n25%     297.000000    0.000000      0.000000      0.000000   129.000000   \n50%     593.000000    3.600000      1.000000      0.000000   200.000000   \n75%     900.000000    4.600000      6.000000      2.000000   549.000000   \nmax    1197.000000    5.000000    433.000000     37.000000  2200.000000   \n\n       pages_count         year  \ncount   965.000000   965.000000  \nmean    222.014508  2016.327461  \nstd     236.922129     5.646624  \nmin       2.000000  1985.000000  \n25%      12.000000  2012.000000  \n50%     163.000000  2017.000000  \n75%     362.000000  2021.000000  \nmax    1223.000000  2024.000000  ",
      "text/html": "<div>\n<style scoped>\n    .dataframe tbody tr th:only-of-type {\n        vertical-align: middle;\n    }\n\n    .dataframe tbody tr th {\n        vertical-align: top;\n    }\n\n    .dataframe thead th {\n        text-align: right;\n    }\n</style>\n<table border=\"1\" class=\"dataframe\">\n  <thead>\n    <tr style=\"text-align: right;\">\n      <th></th>\n      <th>Unnamed: 0</th>\n      <th>rating</th>\n      <th>rating_count</th>\n      <th>review_count</th>\n      <th>price</th>\n      <th>pages_count</th>\n      <th>year</th>\n    </tr>\n  </thead>\n  <tbody>\n    <tr>\n      <th>count</th>\n      <td>965.000000</td>\n      <td>965.000000</td>\n      <td>965.000000</td>\n      <td>965.000000</td>\n      <td>965.000000</td>\n      <td>965.000000</td>\n      <td>965.000000</td>\n    </tr>\n    <tr>\n      <th>mean</th>\n      <td>594.935751</td>\n      <td>2.543420</td>\n      <td>10.338860</td>\n      <td>1.603109</td>\n      <td>348.744021</td>\n      <td>222.014508</td>\n      <td>2016.327461</td>\n    </tr>\n    <tr>\n      <th>std</th>\n      <td>347.276914</td>\n      <td>2.193727</td>\n      <td>36.058249</td>\n      <td>3.134103</td>\n      <td>279.907683</td>\n      <td>236.922129</td>\n      <td>5.646624</td>\n    </tr>\n    <tr>\n      <th>min</th>\n      <td>0.000000</td>\n      <td>0.000000</td>\n      <td>0.000000</td>\n      <td>0.000000</td>\n      <td>40.000000</td>\n      <td>2.000000</td>\n      <td>1985.000000</td>\n    </tr>\n    <tr>\n      <th>25%</th>\n      <td>297.000000</td>\n      <td>0.000000</td>\n      <td>0.000000</td>\n      <td>0.000000</td>\n      <td>129.000000</td>\n      <td>12.000000</td>\n      <td>2012.000000</td>\n    </tr>\n    <tr>\n      <th>50%</th>\n      <td>593.000000</td>\n      <td>3.600000</td>\n      <td>1.000000</td>\n      <td>0.000000</td>\n      <td>200.000000</td>\n      <td>163.000000</td>\n      <td>2017.000000</td>\n    </tr>\n    <tr>\n      <th>75%</th>\n      <td>900.000000</td>\n      <td>4.600000</td>\n      <td>6.000000</td>\n      <td>2.000000</td>\n      <td>549.000000</td>\n      <td>362.000000</td>\n      <td>2021.000000</td>\n    </tr>\n    <tr>\n      <th>max</th>\n      <td>1197.000000</td>\n      <td>5.000000</td>\n      <td>433.000000</td>\n      <td>37.000000</td>\n      <td>2200.000000</td>\n      <td>1223.000000</td>\n      <td>2024.000000</td>\n    </tr>\n  </tbody>\n</table>\n</div>"
     },
     "execution_count": 8,
     "metadata": {},
     "output_type": "execute_result"
    }
   ],
   "source": [
    "data.describe()"
   ],
   "metadata": {
    "collapsed": false,
    "ExecuteTime": {
     "start_time": "2024-09-04T22:55:24.654403Z",
     "end_time": "2024-09-04T22:55:24.706264Z"
    }
   }
  },
  {
   "cell_type": "code",
   "execution_count": 9,
   "outputs": [
    {
     "data": {
      "text/plain": "200.0"
     },
     "execution_count": 9,
     "metadata": {},
     "output_type": "execute_result"
    }
   ],
   "source": [
    "data['price'].median()"
   ],
   "metadata": {
    "collapsed": false,
    "ExecuteTime": {
     "start_time": "2024-09-04T22:55:52.453299Z",
     "end_time": "2024-09-04T22:55:52.468260Z"
    }
   }
  },
  {
   "cell_type": "code",
   "execution_count": 14,
   "outputs": [
    {
     "data": {
      "text/plain": "0"
     },
     "execution_count": 14,
     "metadata": {},
     "output_type": "execute_result"
    }
   ],
   "source": [
    "data['age'].mode()[0]"
   ],
   "metadata": {
    "collapsed": false,
    "ExecuteTime": {
     "start_time": "2024-09-04T23:02:48.433653Z",
     "end_time": "2024-09-04T23:02:48.474544Z"
    }
   }
  },
  {
   "cell_type": "code",
   "execution_count": 16,
   "outputs": [
    {
     "data": {
      "text/plain": "1.6031088082901555"
     },
     "execution_count": 16,
     "metadata": {},
     "output_type": "execute_result"
    }
   ],
   "source": [
    "data['review_count'].mean()"
   ],
   "metadata": {
    "collapsed": false,
    "ExecuteTime": {
     "start_time": "2024-09-04T23:05:01.986062Z",
     "end_time": "2024-09-04T23:05:02.034752Z"
    }
   }
  },
  {
   "cell_type": "code",
   "execution_count": 17,
   "outputs": [
    {
     "data": {
      "text/plain": "619"
     },
     "execution_count": 17,
     "metadata": {},
     "output_type": "execute_result"
    }
   ],
   "source": [
    "data[data['rating'] < 4.25].shape[0]"
   ],
   "metadata": {
    "collapsed": false,
    "ExecuteTime": {
     "start_time": "2024-09-04T23:05:38.791480Z",
     "end_time": "2024-09-04T23:05:38.836737Z"
    }
   }
  },
  {
   "cell_type": "code",
   "execution_count": 18,
   "outputs": [
    {
     "data": {
      "text/plain": "2021"
     },
     "execution_count": 18,
     "metadata": {},
     "output_type": "execute_result"
    }
   ],
   "source": [
    "data['year'].mode()[0]"
   ],
   "metadata": {
    "collapsed": false,
    "ExecuteTime": {
     "start_time": "2024-09-04T23:06:42.064290Z",
     "end_time": "2024-09-04T23:06:42.073266Z"
    }
   }
  },
  {
   "cell_type": "code",
   "execution_count": 34,
   "outputs": [
    {
     "data": {
      "text/plain": "    Unnamed: 0                                               name  \\\n0            0                                   Нейросети начало   \n1            1           Python 3 и PyQt 6. Разработка приложений   \n2            3  Система взаимодействия. Коммуникации в бизнес-...   \n3            4  Постановка задачи обеспечения автоматизации по...   \n4            7  Разработка и реализация портальных решений. Пр...   \n5            8  Высоконагруженные приложения. Программирование...   \n6            9  Становление и развитие компьютерных специально...   \n7           10  Применение нечетких множеств для формирования ...   \n8           11       Программирование на VBA в Excel. Самоучитель   \n9           12                  Разработка веб-приложений в Yii 2   \n10          13           Объектно-ориентированный Python (+ epub)   \n11          14              Модели параллельного программирования   \n12          15             Грокаем машинное обучение (pdf + epub)   \n13          16          Web-представительство регионального музея   \n14          17  Использование оценки приближенности к узлам Wi...   \n15          18         Программирование в среде ЛОГО. Первые шаги   \n16          19  Организация системы прав доступа и ее управлен...   \n17          20                            Новая большая книга CSS   \n18          21                                   Web-сервисы Java   \n19          22                    Грокаем функциональное мышление   \n\n                    author                                               link  \\\n0             Джейд Картер  https://www.litres.ru/book/dzheyd-karter/neyro...   \n1       Николай Прохоренок  https://www.litres.ru/book/vladimir-dronov/pyt...   \n2         Е. Ю. Хрусталева  https://www.litres.ru/book/e-u-hrustaleva/sist...   \n3          О. В. Тиханычев  https://www.litres.ru/book/o-v-tihanychev/post...   \n4            С. В. Маркова  https://www.litres.ru/book/pavel-lukyanov/razr...   \n5          Мартин Клеппман  https://www.litres.ru/book/martin-kleppman-173...   \n6          С. В. Харитонов  https://www.litres.ru/book/v-v-dik/stanovlenie...   \n7           Г. В. Тарасова  https://www.litres.ru/book/g-v-tarasova/primen...   \n8           Елена Яковлева  https://www.litres.ru/book/nina-komolova/progr...   \n9            Марк Сафронов  https://www.litres.ru/book/mark-safronov-76539...   \n10           Дасти Филлипс  https://www.litres.ru/book/dasti-fillips/obekt...   \n11           И. Е. Федотов  https://www.litres.ru/book/ilya-fedotov/modeli...   \n12            Луис Серрано  https://www.litres.ru/book/luis-serrano-329128...   \n13           Р. А. Барышев  https://www.litres.ru/book/a-s-genvald/web-pre...   \n14            Д. Е. Намиот  https://www.litres.ru/book/d-e-namiot/ispolzov...   \n15            Г. В. Белова  https://www.litres.ru/book/galina-belova/progr...   \n16             П. П. Кейно  https://www.litres.ru/book/a-u-novikov/organiz...   \n17  Дэвид Сойер Макфарланд  https://www.litres.ru/book/devid-soyer-makfarl...   \n18            Тимур Машнин  https://www.litres.ru/book/timur-mashnin-30184...   \n19            Эрик Норманд  https://www.litres.ru/book/erik-normand/grokae...   \n\n    rating  rating_count  review_count  price                   pages  \\\n0      4.9           433            37  690.0  102 стр. 4 иллюстрации   \n1      4.7             3             1  549.0               831 стр.    \n2      4.3            10             3  250.0               130 стр.    \n3      0.0             0             0  168.0                10 стр.    \n4      0.0             0             0  350.0               166 стр.    \n5      4.0            51            11  799.0               640 стр.    \n6      0.0             0             0  168.0                 3 стр.    \n7      3.0             2             0  168.0                 5 стр.    \n8      5.0             1             1  549.0               512 стр.    \n9      3.2            10             1  519.0               394 стр.    \n10     0.0             0             0  699.0               704 стр.    \n11     0.0             0             0  450.0               385 стр.    \n12     4.4             3             3  699.0               512 стр.    \n13     0.0             0             0   96.0                 8 стр.    \n14     0.0             0             0   96.0                 8 стр.    \n15     0.0             0             0  250.0               127 стр.    \n16     0.0             0             0  168.0                 8 стр.    \n17     4.4            27             3  550.0               720 стр.    \n18     4.5            10             1  319.0               792 стр.    \n19     5.0             1             1  799.0               608 стр.    \n\n    pages_count                                    text_of_reviews  age  year  \\\n0           102  ['Книга отличная. Давно хотела понять как все ...   12  2023   \n1           831  ['Большая книга, посвященная реализации графич...    0  2023   \n2           130  ['Полезная книга. Есть примеры оповещения поль...   12  2019   \n3            10                                                 []    0  2021   \n4           166                                                 []    0  2020   \n5           640  ['Не могу что-либо про перевод сказать, читал ...   16  2017   \n6             3                                                 []    0  2016   \n7             5                                                 []    0  2010   \n8           512  ['Что мне особенно понравилось в этой книге, т...    0  2024   \n9           394  ['Жаль потраченных денег, в книге очень много ...    0  2014   \n10          704                                                 []   16  2021   \n11          385                                                 []    0  2012   \n12          512  ['Есть полезная информация, но многовато воды,...   16  2021   \n13            8                                                 []    0  2010   \n14            8                                                 []    0  2012   \n15          127                                                 []    0  2010   \n16            8                                                 []    0  2019   \n17          720  ['Это мой бестселлер!!! ', 'Хоть и называется ...   16  2015   \n18          792  ['В одной книге собрана практически вся нужная...    0  2011   \n19          608  ['Книга предназначена для тех, кто хочет изучи...   16  2021   \n\n   pages_count_new  is_popular  \n0              102           1  \n1              831           0  \n2              130           0  \n3               10           0  \n4              166           0  \n5              640           0  \n6                3           0  \n7                5           0  \n8              512           0  \n9              394           0  \n10             704           0  \n11             385           0  \n12             512           0  \n13               8           0  \n14               8           0  \n15             127           0  \n16               8           0  \n17             720           0  \n18             792           0  \n19             608           0  ",
      "text/html": "<div>\n<style scoped>\n    .dataframe tbody tr th:only-of-type {\n        vertical-align: middle;\n    }\n\n    .dataframe tbody tr th {\n        vertical-align: top;\n    }\n\n    .dataframe thead th {\n        text-align: right;\n    }\n</style>\n<table border=\"1\" class=\"dataframe\">\n  <thead>\n    <tr style=\"text-align: right;\">\n      <th></th>\n      <th>Unnamed: 0</th>\n      <th>name</th>\n      <th>author</th>\n      <th>link</th>\n      <th>rating</th>\n      <th>rating_count</th>\n      <th>review_count</th>\n      <th>price</th>\n      <th>pages</th>\n      <th>pages_count</th>\n      <th>text_of_reviews</th>\n      <th>age</th>\n      <th>year</th>\n      <th>pages_count_new</th>\n      <th>is_popular</th>\n    </tr>\n  </thead>\n  <tbody>\n    <tr>\n      <th>0</th>\n      <td>0</td>\n      <td>Нейросети начало</td>\n      <td>Джейд Картер</td>\n      <td>https://www.litres.ru/book/dzheyd-karter/neyro...</td>\n      <td>4.9</td>\n      <td>433</td>\n      <td>37</td>\n      <td>690.0</td>\n      <td>102 стр. 4 иллюстрации</td>\n      <td>102</td>\n      <td>['Книга отличная. Давно хотела понять как все ...</td>\n      <td>12</td>\n      <td>2023</td>\n      <td>102</td>\n      <td>1</td>\n    </tr>\n    <tr>\n      <th>1</th>\n      <td>1</td>\n      <td>Python 3 и PyQt 6. Разработка приложений</td>\n      <td>Николай Прохоренок</td>\n      <td>https://www.litres.ru/book/vladimir-dronov/pyt...</td>\n      <td>4.7</td>\n      <td>3</td>\n      <td>1</td>\n      <td>549.0</td>\n      <td>831 стр.</td>\n      <td>831</td>\n      <td>['Большая книга, посвященная реализации графич...</td>\n      <td>0</td>\n      <td>2023</td>\n      <td>831</td>\n      <td>0</td>\n    </tr>\n    <tr>\n      <th>2</th>\n      <td>3</td>\n      <td>Система взаимодействия. Коммуникации в бизнес-...</td>\n      <td>Е. Ю. Хрусталева</td>\n      <td>https://www.litres.ru/book/e-u-hrustaleva/sist...</td>\n      <td>4.3</td>\n      <td>10</td>\n      <td>3</td>\n      <td>250.0</td>\n      <td>130 стр.</td>\n      <td>130</td>\n      <td>['Полезная книга. Есть примеры оповещения поль...</td>\n      <td>12</td>\n      <td>2019</td>\n      <td>130</td>\n      <td>0</td>\n    </tr>\n    <tr>\n      <th>3</th>\n      <td>4</td>\n      <td>Постановка задачи обеспечения автоматизации по...</td>\n      <td>О. В. Тиханычев</td>\n      <td>https://www.litres.ru/book/o-v-tihanychev/post...</td>\n      <td>0.0</td>\n      <td>0</td>\n      <td>0</td>\n      <td>168.0</td>\n      <td>10 стр.</td>\n      <td>10</td>\n      <td>[]</td>\n      <td>0</td>\n      <td>2021</td>\n      <td>10</td>\n      <td>0</td>\n    </tr>\n    <tr>\n      <th>4</th>\n      <td>7</td>\n      <td>Разработка и реализация портальных решений. Пр...</td>\n      <td>С. В. Маркова</td>\n      <td>https://www.litres.ru/book/pavel-lukyanov/razr...</td>\n      <td>0.0</td>\n      <td>0</td>\n      <td>0</td>\n      <td>350.0</td>\n      <td>166 стр.</td>\n      <td>166</td>\n      <td>[]</td>\n      <td>0</td>\n      <td>2020</td>\n      <td>166</td>\n      <td>0</td>\n    </tr>\n    <tr>\n      <th>5</th>\n      <td>8</td>\n      <td>Высоконагруженные приложения. Программирование...</td>\n      <td>Мартин Клеппман</td>\n      <td>https://www.litres.ru/book/martin-kleppman-173...</td>\n      <td>4.0</td>\n      <td>51</td>\n      <td>11</td>\n      <td>799.0</td>\n      <td>640 стр.</td>\n      <td>640</td>\n      <td>['Не могу что-либо про перевод сказать, читал ...</td>\n      <td>16</td>\n      <td>2017</td>\n      <td>640</td>\n      <td>0</td>\n    </tr>\n    <tr>\n      <th>6</th>\n      <td>9</td>\n      <td>Становление и развитие компьютерных специально...</td>\n      <td>С. В. Харитонов</td>\n      <td>https://www.litres.ru/book/v-v-dik/stanovlenie...</td>\n      <td>0.0</td>\n      <td>0</td>\n      <td>0</td>\n      <td>168.0</td>\n      <td>3 стр.</td>\n      <td>3</td>\n      <td>[]</td>\n      <td>0</td>\n      <td>2016</td>\n      <td>3</td>\n      <td>0</td>\n    </tr>\n    <tr>\n      <th>7</th>\n      <td>10</td>\n      <td>Применение нечетких множеств для формирования ...</td>\n      <td>Г. В. Тарасова</td>\n      <td>https://www.litres.ru/book/g-v-tarasova/primen...</td>\n      <td>3.0</td>\n      <td>2</td>\n      <td>0</td>\n      <td>168.0</td>\n      <td>5 стр.</td>\n      <td>5</td>\n      <td>[]</td>\n      <td>0</td>\n      <td>2010</td>\n      <td>5</td>\n      <td>0</td>\n    </tr>\n    <tr>\n      <th>8</th>\n      <td>11</td>\n      <td>Программирование на VBA в Excel. Самоучитель</td>\n      <td>Елена Яковлева</td>\n      <td>https://www.litres.ru/book/nina-komolova/progr...</td>\n      <td>5.0</td>\n      <td>1</td>\n      <td>1</td>\n      <td>549.0</td>\n      <td>512 стр.</td>\n      <td>512</td>\n      <td>['Что мне особенно понравилось в этой книге, т...</td>\n      <td>0</td>\n      <td>2024</td>\n      <td>512</td>\n      <td>0</td>\n    </tr>\n    <tr>\n      <th>9</th>\n      <td>12</td>\n      <td>Разработка веб-приложений в Yii 2</td>\n      <td>Марк Сафронов</td>\n      <td>https://www.litres.ru/book/mark-safronov-76539...</td>\n      <td>3.2</td>\n      <td>10</td>\n      <td>1</td>\n      <td>519.0</td>\n      <td>394 стр.</td>\n      <td>394</td>\n      <td>['Жаль потраченных денег, в книге очень много ...</td>\n      <td>0</td>\n      <td>2014</td>\n      <td>394</td>\n      <td>0</td>\n    </tr>\n    <tr>\n      <th>10</th>\n      <td>13</td>\n      <td>Объектно-ориентированный Python (+ epub)</td>\n      <td>Дасти Филлипс</td>\n      <td>https://www.litres.ru/book/dasti-fillips/obekt...</td>\n      <td>0.0</td>\n      <td>0</td>\n      <td>0</td>\n      <td>699.0</td>\n      <td>704 стр.</td>\n      <td>704</td>\n      <td>[]</td>\n      <td>16</td>\n      <td>2021</td>\n      <td>704</td>\n      <td>0</td>\n    </tr>\n    <tr>\n      <th>11</th>\n      <td>14</td>\n      <td>Модели параллельного программирования</td>\n      <td>И. Е. Федотов</td>\n      <td>https://www.litres.ru/book/ilya-fedotov/modeli...</td>\n      <td>0.0</td>\n      <td>0</td>\n      <td>0</td>\n      <td>450.0</td>\n      <td>385 стр.</td>\n      <td>385</td>\n      <td>[]</td>\n      <td>0</td>\n      <td>2012</td>\n      <td>385</td>\n      <td>0</td>\n    </tr>\n    <tr>\n      <th>12</th>\n      <td>15</td>\n      <td>Грокаем машинное обучение (pdf + epub)</td>\n      <td>Луис Серрано</td>\n      <td>https://www.litres.ru/book/luis-serrano-329128...</td>\n      <td>4.4</td>\n      <td>3</td>\n      <td>3</td>\n      <td>699.0</td>\n      <td>512 стр.</td>\n      <td>512</td>\n      <td>['Есть полезная информация, но многовато воды,...</td>\n      <td>16</td>\n      <td>2021</td>\n      <td>512</td>\n      <td>0</td>\n    </tr>\n    <tr>\n      <th>13</th>\n      <td>16</td>\n      <td>Web-представительство регионального музея</td>\n      <td>Р. А. Барышев</td>\n      <td>https://www.litres.ru/book/a-s-genvald/web-pre...</td>\n      <td>0.0</td>\n      <td>0</td>\n      <td>0</td>\n      <td>96.0</td>\n      <td>8 стр.</td>\n      <td>8</td>\n      <td>[]</td>\n      <td>0</td>\n      <td>2010</td>\n      <td>8</td>\n      <td>0</td>\n    </tr>\n    <tr>\n      <th>14</th>\n      <td>17</td>\n      <td>Использование оценки приближенности к узлам Wi...</td>\n      <td>Д. Е. Намиот</td>\n      <td>https://www.litres.ru/book/d-e-namiot/ispolzov...</td>\n      <td>0.0</td>\n      <td>0</td>\n      <td>0</td>\n      <td>96.0</td>\n      <td>8 стр.</td>\n      <td>8</td>\n      <td>[]</td>\n      <td>0</td>\n      <td>2012</td>\n      <td>8</td>\n      <td>0</td>\n    </tr>\n    <tr>\n      <th>15</th>\n      <td>18</td>\n      <td>Программирование в среде ЛОГО. Первые шаги</td>\n      <td>Г. В. Белова</td>\n      <td>https://www.litres.ru/book/galina-belova/progr...</td>\n      <td>0.0</td>\n      <td>0</td>\n      <td>0</td>\n      <td>250.0</td>\n      <td>127 стр.</td>\n      <td>127</td>\n      <td>[]</td>\n      <td>0</td>\n      <td>2010</td>\n      <td>127</td>\n      <td>0</td>\n    </tr>\n    <tr>\n      <th>16</th>\n      <td>19</td>\n      <td>Организация системы прав доступа и ее управлен...</td>\n      <td>П. П. Кейно</td>\n      <td>https://www.litres.ru/book/a-u-novikov/organiz...</td>\n      <td>0.0</td>\n      <td>0</td>\n      <td>0</td>\n      <td>168.0</td>\n      <td>8 стр.</td>\n      <td>8</td>\n      <td>[]</td>\n      <td>0</td>\n      <td>2019</td>\n      <td>8</td>\n      <td>0</td>\n    </tr>\n    <tr>\n      <th>17</th>\n      <td>20</td>\n      <td>Новая большая книга CSS</td>\n      <td>Дэвид Сойер Макфарланд</td>\n      <td>https://www.litres.ru/book/devid-soyer-makfarl...</td>\n      <td>4.4</td>\n      <td>27</td>\n      <td>3</td>\n      <td>550.0</td>\n      <td>720 стр.</td>\n      <td>720</td>\n      <td>['Это мой бестселлер!!! ', 'Хоть и называется ...</td>\n      <td>16</td>\n      <td>2015</td>\n      <td>720</td>\n      <td>0</td>\n    </tr>\n    <tr>\n      <th>18</th>\n      <td>21</td>\n      <td>Web-сервисы Java</td>\n      <td>Тимур Машнин</td>\n      <td>https://www.litres.ru/book/timur-mashnin-30184...</td>\n      <td>4.5</td>\n      <td>10</td>\n      <td>1</td>\n      <td>319.0</td>\n      <td>792 стр.</td>\n      <td>792</td>\n      <td>['В одной книге собрана практически вся нужная...</td>\n      <td>0</td>\n      <td>2011</td>\n      <td>792</td>\n      <td>0</td>\n    </tr>\n    <tr>\n      <th>19</th>\n      <td>22</td>\n      <td>Грокаем функциональное мышление</td>\n      <td>Эрик Норманд</td>\n      <td>https://www.litres.ru/book/erik-normand/grokae...</td>\n      <td>5.0</td>\n      <td>1</td>\n      <td>1</td>\n      <td>799.0</td>\n      <td>608 стр.</td>\n      <td>608</td>\n      <td>['Книга предназначена для тех, кто хочет изучи...</td>\n      <td>16</td>\n      <td>2021</td>\n      <td>608</td>\n      <td>0</td>\n    </tr>\n  </tbody>\n</table>\n</div>"
     },
     "execution_count": 34,
     "metadata": {},
     "output_type": "execute_result"
    }
   ],
   "source": [
    "import re\n",
    "\n",
    "def get_pages_count(pages):\n",
    "    return re.search(r'(\\d+)', pages).group(1)\n",
    "\n",
    "data['pages_count_new'] = data['pages'].apply(get_pages_count)\n",
    "data.head(20)"
   ],
   "metadata": {
    "collapsed": false,
    "ExecuteTime": {
     "start_time": "2024-09-04T23:32:30.919167Z",
     "end_time": "2024-09-04T23:32:30.933129Z"
    }
   }
  },
  {
   "cell_type": "code",
   "execution_count": 25,
   "outputs": [
    {
     "data": {
      "text/plain": "   Unnamed: 0                                               name  \\\n0           0                                   Нейросети начало   \n1           1           Python 3 и PyQt 6. Разработка приложений   \n2           3  Система взаимодействия. Коммуникации в бизнес-...   \n3           4  Постановка задачи обеспечения автоматизации по...   \n4           7  Разработка и реализация портальных решений. Пр...   \n\n               author                                               link  \\\n0        Джейд Картер  https://www.litres.ru/book/dzheyd-karter/neyro...   \n1  Николай Прохоренок  https://www.litres.ru/book/vladimir-dronov/pyt...   \n2    Е. Ю. Хрусталева  https://www.litres.ru/book/e-u-hrustaleva/sist...   \n3     О. В. Тиханычев  https://www.litres.ru/book/o-v-tihanychev/post...   \n4       С. В. Маркова  https://www.litres.ru/book/pavel-lukyanov/razr...   \n\n   rating  rating_count  review_count  price                   pages  \\\n0     4.9           433            37  690.0  102 стр. 4 иллюстрации   \n1     4.7             3             1  549.0               831 стр.    \n2     4.3            10             3  250.0               130 стр.    \n3     0.0             0             0  168.0                10 стр.    \n4     0.0             0             0  350.0               166 стр.    \n\n   pages_count                                    text_of_reviews  age  year  \\\n0          102  ['Книга отличная. Давно хотела понять как все ...   12  2023   \n1          831  ['Большая книга, посвященная реализации графич...    0  2023   \n2          130  ['Полезная книга. Есть примеры оповещения поль...   12  2019   \n3           10                                                 []    0  2021   \n4          166                                                 []    0  2020   \n\n  pages_count_new  is_popular  \n0             102           1  \n1             831           0  \n2             130           0  \n3              10           0  \n4             166           0  ",
      "text/html": "<div>\n<style scoped>\n    .dataframe tbody tr th:only-of-type {\n        vertical-align: middle;\n    }\n\n    .dataframe tbody tr th {\n        vertical-align: top;\n    }\n\n    .dataframe thead th {\n        text-align: right;\n    }\n</style>\n<table border=\"1\" class=\"dataframe\">\n  <thead>\n    <tr style=\"text-align: right;\">\n      <th></th>\n      <th>Unnamed: 0</th>\n      <th>name</th>\n      <th>author</th>\n      <th>link</th>\n      <th>rating</th>\n      <th>rating_count</th>\n      <th>review_count</th>\n      <th>price</th>\n      <th>pages</th>\n      <th>pages_count</th>\n      <th>text_of_reviews</th>\n      <th>age</th>\n      <th>year</th>\n      <th>pages_count_new</th>\n      <th>is_popular</th>\n    </tr>\n  </thead>\n  <tbody>\n    <tr>\n      <th>0</th>\n      <td>0</td>\n      <td>Нейросети начало</td>\n      <td>Джейд Картер</td>\n      <td>https://www.litres.ru/book/dzheyd-karter/neyro...</td>\n      <td>4.9</td>\n      <td>433</td>\n      <td>37</td>\n      <td>690.0</td>\n      <td>102 стр. 4 иллюстрации</td>\n      <td>102</td>\n      <td>['Книга отличная. Давно хотела понять как все ...</td>\n      <td>12</td>\n      <td>2023</td>\n      <td>102</td>\n      <td>1</td>\n    </tr>\n    <tr>\n      <th>1</th>\n      <td>1</td>\n      <td>Python 3 и PyQt 6. Разработка приложений</td>\n      <td>Николай Прохоренок</td>\n      <td>https://www.litres.ru/book/vladimir-dronov/pyt...</td>\n      <td>4.7</td>\n      <td>3</td>\n      <td>1</td>\n      <td>549.0</td>\n      <td>831 стр.</td>\n      <td>831</td>\n      <td>['Большая книга, посвященная реализации графич...</td>\n      <td>0</td>\n      <td>2023</td>\n      <td>831</td>\n      <td>0</td>\n    </tr>\n    <tr>\n      <th>2</th>\n      <td>3</td>\n      <td>Система взаимодействия. Коммуникации в бизнес-...</td>\n      <td>Е. Ю. Хрусталева</td>\n      <td>https://www.litres.ru/book/e-u-hrustaleva/sist...</td>\n      <td>4.3</td>\n      <td>10</td>\n      <td>3</td>\n      <td>250.0</td>\n      <td>130 стр.</td>\n      <td>130</td>\n      <td>['Полезная книга. Есть примеры оповещения поль...</td>\n      <td>12</td>\n      <td>2019</td>\n      <td>130</td>\n      <td>0</td>\n    </tr>\n    <tr>\n      <th>3</th>\n      <td>4</td>\n      <td>Постановка задачи обеспечения автоматизации по...</td>\n      <td>О. В. Тиханычев</td>\n      <td>https://www.litres.ru/book/o-v-tihanychev/post...</td>\n      <td>0.0</td>\n      <td>0</td>\n      <td>0</td>\n      <td>168.0</td>\n      <td>10 стр.</td>\n      <td>10</td>\n      <td>[]</td>\n      <td>0</td>\n      <td>2021</td>\n      <td>10</td>\n      <td>0</td>\n    </tr>\n    <tr>\n      <th>4</th>\n      <td>7</td>\n      <td>Разработка и реализация портальных решений. Пр...</td>\n      <td>С. В. Маркова</td>\n      <td>https://www.litres.ru/book/pavel-lukyanov/razr...</td>\n      <td>0.0</td>\n      <td>0</td>\n      <td>0</td>\n      <td>350.0</td>\n      <td>166 стр.</td>\n      <td>166</td>\n      <td>[]</td>\n      <td>0</td>\n      <td>2020</td>\n      <td>166</td>\n      <td>0</td>\n    </tr>\n  </tbody>\n</table>\n</div>"
     },
     "execution_count": 25,
     "metadata": {},
     "output_type": "execute_result"
    }
   ],
   "source": [
    "is_popular = ((data['rating'] >= 4.6) & (data['review_count'] >= 5))\n",
    "data['is_popular'] = is_popular.astype(int)\n",
    "data.head()"
   ],
   "metadata": {
    "collapsed": false,
    "ExecuteTime": {
     "start_time": "2024-09-04T23:24:14.399056Z",
     "end_time": "2024-09-04T23:24:14.425983Z"
    }
   }
  },
  {
   "cell_type": "code",
   "execution_count": 33,
   "outputs": [
    {
     "name": "stdout",
     "output_type": "stream",
     "text": [
      "Как отличается среднее число страниц среди популярных и непопулярных книг: 164.34140541264736\n"
     ]
    }
   ],
   "source": [
    "print(f'Как отличается среднее число страниц среди популярных и непопулярных книг: '\n",
    "      f'{abs(data[data[\"is_popular\"] == 1][\"pages_count\"].mean() - data[data[\"is_popular\"] == 0][\"pages_count\"].mean())}'\n",
    "      )"
   ],
   "metadata": {
    "collapsed": false,
    "ExecuteTime": {
     "start_time": "2024-09-04T23:32:08.821631Z",
     "end_time": "2024-09-04T23:32:08.844818Z"
    }
   }
  },
  {
   "cell_type": "code",
   "execution_count": 41,
   "outputs": [
    {
     "data": {
      "text/plain": "     Unnamed: 0                                               name  \\\n0             0                                   Нейросети начало   \n775         961  Теоретический минимум по Computer Science. Все...   \n98          117  #Сам себе программист. Как научиться программи...   \n692         857           Нейросети. Обработка естественного языка   \n494         605  Изучаем Python: программирование игр, визуализ...   \n89          107  Облачные технологии. Практическое руководство ...   \n458         560                                        Путь лидера   \n528         648  Swift. Основы разработки приложений под iOS, i...   \n481         592       Программирование на C++ в примерах и задачах   \n760         943  1С:Предприятие 8.3. Практическое пособие разра...   \n\n                     author  \\\n0              Джейд Картер   \n775  Владстон Феррейра Фило   \n98            Кори Альтхофф   \n692            Джейд Картер   \n494              Эрик Мэтиз   \n89             Джейд Картер   \n458            Джейд Картер   \n528            Василий Усов   \n481        Алексей Васильев   \n760        Е. Ю. Хрусталева   \n\n                                                  link  rating  rating_count  \\\n0    https://www.litres.ru/book/dzheyd-karter/neyro...     4.9           433   \n775  https://www.litres.ru/book/vladston-ferreyra-f...     3.9            94   \n98   https://www.litres.ru/book/kori-althoff/sam-se...     4.2           128   \n692  https://www.litres.ru/book/dzheyd-karter/neyro...     5.0           377   \n494  https://www.litres.ru/book/erik-metiz/izuchaem...     4.3            74   \n89   https://www.litres.ru/book/dzheyd-karter/oblac...     5.0           268   \n458  https://www.litres.ru/book/anna-kozlovceva/put...     5.0           173   \n528  https://www.litres.ru/book/vasiliy-usov/swift-...     3.1            64   \n481  https://www.litres.ru/book/aleksey-nikolaevich...     4.0            78   \n760  https://www.litres.ru/book/e-u-hrustaleva/1s-p...     4.5            72   \n\n     review_count  price                    pages  pages_count  \\\n0              37  690.0   102 стр. 4 иллюстрации          102   \n775            28  599.0                224 стр.           224   \n98             25  299.0                210 стр.           210   \n692            19  690.0  231 стр. 20 иллюстраций          231   \n494            18  699.0                512 стр.           512   \n89             17  690.0   212 стр. 5 иллюстраций          212   \n458            17  199.0  215 стр. 10 иллюстраций          215   \n528            17  499.0                545 стр.           545   \n481            16  419.0                369 стр.           369   \n760            15  180.0                983 стр.           983   \n\n                                       text_of_reviews  age  year  \\\n0    ['Книга отличная. Давно хотела понять как все ...   12  2023   \n775  ['Прекрасная книга. Рекомендовал и старшим шко...   16  2017   \n98   ['Отличная книга чтобы начать программировать,...   12  2017   \n692  ['Отличная серия! Обложки просто кайф. Много п...   12  2023   \n494  ['Осторожно, под видом второго издания продает...   16  2021   \n89   ['Автор не перестает радовать годными книгами....   12  2024   \n458  ['Отличное руководство. Расписан каждый шаг. Д...   12  2023   \n528  ['Книга хорошая. Все подробно описано. Единств...   16  2021   \n481  ['Я купил эту книгу в бумажном виде, прочитав ...   12  2017   \n760  ['Книга супер!!! Даю проверенный совет. Прошла...   12  2023   \n\n    pages_count_new  is_popular  \n0               102           1  \n775             224           0  \n98              210           0  \n692             231           1  \n494             512           0  \n89              212           1  \n458             215           1  \n528             545           0  \n481             369           0  \n760             983           0  ",
      "text/html": "<div>\n<style scoped>\n    .dataframe tbody tr th:only-of-type {\n        vertical-align: middle;\n    }\n\n    .dataframe tbody tr th {\n        vertical-align: top;\n    }\n\n    .dataframe thead th {\n        text-align: right;\n    }\n</style>\n<table border=\"1\" class=\"dataframe\">\n  <thead>\n    <tr style=\"text-align: right;\">\n      <th></th>\n      <th>Unnamed: 0</th>\n      <th>name</th>\n      <th>author</th>\n      <th>link</th>\n      <th>rating</th>\n      <th>rating_count</th>\n      <th>review_count</th>\n      <th>price</th>\n      <th>pages</th>\n      <th>pages_count</th>\n      <th>text_of_reviews</th>\n      <th>age</th>\n      <th>year</th>\n      <th>pages_count_new</th>\n      <th>is_popular</th>\n    </tr>\n  </thead>\n  <tbody>\n    <tr>\n      <th>0</th>\n      <td>0</td>\n      <td>Нейросети начало</td>\n      <td>Джейд Картер</td>\n      <td>https://www.litres.ru/book/dzheyd-karter/neyro...</td>\n      <td>4.9</td>\n      <td>433</td>\n      <td>37</td>\n      <td>690.0</td>\n      <td>102 стр. 4 иллюстрации</td>\n      <td>102</td>\n      <td>['Книга отличная. Давно хотела понять как все ...</td>\n      <td>12</td>\n      <td>2023</td>\n      <td>102</td>\n      <td>1</td>\n    </tr>\n    <tr>\n      <th>775</th>\n      <td>961</td>\n      <td>Теоретический минимум по Computer Science. Все...</td>\n      <td>Владстон Феррейра Фило</td>\n      <td>https://www.litres.ru/book/vladston-ferreyra-f...</td>\n      <td>3.9</td>\n      <td>94</td>\n      <td>28</td>\n      <td>599.0</td>\n      <td>224 стр.</td>\n      <td>224</td>\n      <td>['Прекрасная книга. Рекомендовал и старшим шко...</td>\n      <td>16</td>\n      <td>2017</td>\n      <td>224</td>\n      <td>0</td>\n    </tr>\n    <tr>\n      <th>98</th>\n      <td>117</td>\n      <td>#Сам себе программист. Как научиться программи...</td>\n      <td>Кори Альтхофф</td>\n      <td>https://www.litres.ru/book/kori-althoff/sam-se...</td>\n      <td>4.2</td>\n      <td>128</td>\n      <td>25</td>\n      <td>299.0</td>\n      <td>210 стр.</td>\n      <td>210</td>\n      <td>['Отличная книга чтобы начать программировать,...</td>\n      <td>12</td>\n      <td>2017</td>\n      <td>210</td>\n      <td>0</td>\n    </tr>\n    <tr>\n      <th>692</th>\n      <td>857</td>\n      <td>Нейросети. Обработка естественного языка</td>\n      <td>Джейд Картер</td>\n      <td>https://www.litres.ru/book/dzheyd-karter/neyro...</td>\n      <td>5.0</td>\n      <td>377</td>\n      <td>19</td>\n      <td>690.0</td>\n      <td>231 стр. 20 иллюстраций</td>\n      <td>231</td>\n      <td>['Отличная серия! Обложки просто кайф. Много п...</td>\n      <td>12</td>\n      <td>2023</td>\n      <td>231</td>\n      <td>1</td>\n    </tr>\n    <tr>\n      <th>494</th>\n      <td>605</td>\n      <td>Изучаем Python: программирование игр, визуализ...</td>\n      <td>Эрик Мэтиз</td>\n      <td>https://www.litres.ru/book/erik-metiz/izuchaem...</td>\n      <td>4.3</td>\n      <td>74</td>\n      <td>18</td>\n      <td>699.0</td>\n      <td>512 стр.</td>\n      <td>512</td>\n      <td>['Осторожно, под видом второго издания продает...</td>\n      <td>16</td>\n      <td>2021</td>\n      <td>512</td>\n      <td>0</td>\n    </tr>\n    <tr>\n      <th>89</th>\n      <td>107</td>\n      <td>Облачные технологии. Практическое руководство ...</td>\n      <td>Джейд Картер</td>\n      <td>https://www.litres.ru/book/dzheyd-karter/oblac...</td>\n      <td>5.0</td>\n      <td>268</td>\n      <td>17</td>\n      <td>690.0</td>\n      <td>212 стр. 5 иллюстраций</td>\n      <td>212</td>\n      <td>['Автор не перестает радовать годными книгами....</td>\n      <td>12</td>\n      <td>2024</td>\n      <td>212</td>\n      <td>1</td>\n    </tr>\n    <tr>\n      <th>458</th>\n      <td>560</td>\n      <td>Путь лидера</td>\n      <td>Джейд Картер</td>\n      <td>https://www.litres.ru/book/anna-kozlovceva/put...</td>\n      <td>5.0</td>\n      <td>173</td>\n      <td>17</td>\n      <td>199.0</td>\n      <td>215 стр. 10 иллюстраций</td>\n      <td>215</td>\n      <td>['Отличное руководство. Расписан каждый шаг. Д...</td>\n      <td>12</td>\n      <td>2023</td>\n      <td>215</td>\n      <td>1</td>\n    </tr>\n    <tr>\n      <th>528</th>\n      <td>648</td>\n      <td>Swift. Основы разработки приложений под iOS, i...</td>\n      <td>Василий Усов</td>\n      <td>https://www.litres.ru/book/vasiliy-usov/swift-...</td>\n      <td>3.1</td>\n      <td>64</td>\n      <td>17</td>\n      <td>499.0</td>\n      <td>545 стр.</td>\n      <td>545</td>\n      <td>['Книга хорошая. Все подробно описано. Единств...</td>\n      <td>16</td>\n      <td>2021</td>\n      <td>545</td>\n      <td>0</td>\n    </tr>\n    <tr>\n      <th>481</th>\n      <td>592</td>\n      <td>Программирование на C++ в примерах и задачах</td>\n      <td>Алексей Васильев</td>\n      <td>https://www.litres.ru/book/aleksey-nikolaevich...</td>\n      <td>4.0</td>\n      <td>78</td>\n      <td>16</td>\n      <td>419.0</td>\n      <td>369 стр.</td>\n      <td>369</td>\n      <td>['Я купил эту книгу в бумажном виде, прочитав ...</td>\n      <td>12</td>\n      <td>2017</td>\n      <td>369</td>\n      <td>0</td>\n    </tr>\n    <tr>\n      <th>760</th>\n      <td>943</td>\n      <td>1С:Предприятие 8.3. Практическое пособие разра...</td>\n      <td>Е. Ю. Хрусталева</td>\n      <td>https://www.litres.ru/book/e-u-hrustaleva/1s-p...</td>\n      <td>4.5</td>\n      <td>72</td>\n      <td>15</td>\n      <td>180.0</td>\n      <td>983 стр.</td>\n      <td>983</td>\n      <td>['Книга супер!!! Даю проверенный совет. Прошла...</td>\n      <td>12</td>\n      <td>2023</td>\n      <td>983</td>\n      <td>0</td>\n    </tr>\n  </tbody>\n</table>\n</div>"
     },
     "execution_count": 41,
     "metadata": {},
     "output_type": "execute_result"
    }
   ],
   "source": [
    "data.nlargest(10, 'review_count').head(10)"
   ],
   "metadata": {
    "collapsed": false,
    "ExecuteTime": {
     "start_time": "2024-09-04T23:35:19.213733Z",
     "end_time": "2024-09-04T23:35:19.237695Z"
    }
   }
  },
  {
   "cell_type": "markdown",
   "source": [
    "### Пропустил 9.Найдите среднюю длину отзыва (в символах). (2)"
   ],
   "metadata": {
    "collapsed": false
   }
  },
  {
   "cell_type": "code",
   "execution_count": 47,
   "outputs": [
    {
     "ename": "ValueError",
     "evalue": "could not convert string to float: 'Нейросети начало'",
     "output_type": "error",
     "traceback": [
      "\u001B[1;31m---------------------------------------------------------------------------\u001B[0m",
      "\u001B[1;31mValueError\u001B[0m                                Traceback (most recent call last)",
      "Cell \u001B[1;32mIn[47], line 1\u001B[0m\n\u001B[1;32m----> 1\u001B[0m \u001B[43mdata\u001B[49m\u001B[38;5;241;43m.\u001B[39;49m\u001B[43mcorr\u001B[49m\u001B[43m(\u001B[49m\u001B[43m)\u001B[49m\n",
      "File \u001B[1;32m~\\AppData\\Local\\Programs\\Python\\Python310\\lib\\site-packages\\pandas\\core\\frame.py:10707\u001B[0m, in \u001B[0;36mDataFrame.corr\u001B[1;34m(self, method, min_periods, numeric_only)\u001B[0m\n\u001B[0;32m  10705\u001B[0m cols \u001B[38;5;241m=\u001B[39m data\u001B[38;5;241m.\u001B[39mcolumns\n\u001B[0;32m  10706\u001B[0m idx \u001B[38;5;241m=\u001B[39m cols\u001B[38;5;241m.\u001B[39mcopy()\n\u001B[1;32m> 10707\u001B[0m mat \u001B[38;5;241m=\u001B[39m \u001B[43mdata\u001B[49m\u001B[38;5;241;43m.\u001B[39;49m\u001B[43mto_numpy\u001B[49m\u001B[43m(\u001B[49m\u001B[43mdtype\u001B[49m\u001B[38;5;241;43m=\u001B[39;49m\u001B[38;5;28;43mfloat\u001B[39;49m\u001B[43m,\u001B[49m\u001B[43m \u001B[49m\u001B[43mna_value\u001B[49m\u001B[38;5;241;43m=\u001B[39;49m\u001B[43mnp\u001B[49m\u001B[38;5;241;43m.\u001B[39;49m\u001B[43mnan\u001B[49m\u001B[43m,\u001B[49m\u001B[43m \u001B[49m\u001B[43mcopy\u001B[49m\u001B[38;5;241;43m=\u001B[39;49m\u001B[38;5;28;43;01mFalse\u001B[39;49;00m\u001B[43m)\u001B[49m\n\u001B[0;32m  10709\u001B[0m \u001B[38;5;28;01mif\u001B[39;00m method \u001B[38;5;241m==\u001B[39m \u001B[38;5;124m\"\u001B[39m\u001B[38;5;124mpearson\u001B[39m\u001B[38;5;124m\"\u001B[39m:\n\u001B[0;32m  10710\u001B[0m     correl \u001B[38;5;241m=\u001B[39m libalgos\u001B[38;5;241m.\u001B[39mnancorr(mat, minp\u001B[38;5;241m=\u001B[39mmin_periods)\n",
      "File \u001B[1;32m~\\AppData\\Local\\Programs\\Python\\Python310\\lib\\site-packages\\pandas\\core\\frame.py:1892\u001B[0m, in \u001B[0;36mDataFrame.to_numpy\u001B[1;34m(self, dtype, copy, na_value)\u001B[0m\n\u001B[0;32m   1890\u001B[0m \u001B[38;5;28;01mif\u001B[39;00m dtype \u001B[38;5;129;01mis\u001B[39;00m \u001B[38;5;129;01mnot\u001B[39;00m \u001B[38;5;28;01mNone\u001B[39;00m:\n\u001B[0;32m   1891\u001B[0m     dtype \u001B[38;5;241m=\u001B[39m np\u001B[38;5;241m.\u001B[39mdtype(dtype)\n\u001B[1;32m-> 1892\u001B[0m result \u001B[38;5;241m=\u001B[39m \u001B[38;5;28;43mself\u001B[39;49m\u001B[38;5;241;43m.\u001B[39;49m\u001B[43m_mgr\u001B[49m\u001B[38;5;241;43m.\u001B[39;49m\u001B[43mas_array\u001B[49m\u001B[43m(\u001B[49m\u001B[43mdtype\u001B[49m\u001B[38;5;241;43m=\u001B[39;49m\u001B[43mdtype\u001B[49m\u001B[43m,\u001B[49m\u001B[43m \u001B[49m\u001B[43mcopy\u001B[49m\u001B[38;5;241;43m=\u001B[39;49m\u001B[43mcopy\u001B[49m\u001B[43m,\u001B[49m\u001B[43m \u001B[49m\u001B[43mna_value\u001B[49m\u001B[38;5;241;43m=\u001B[39;49m\u001B[43mna_value\u001B[49m\u001B[43m)\u001B[49m\n\u001B[0;32m   1893\u001B[0m \u001B[38;5;28;01mif\u001B[39;00m result\u001B[38;5;241m.\u001B[39mdtype \u001B[38;5;129;01mis\u001B[39;00m \u001B[38;5;129;01mnot\u001B[39;00m dtype:\n\u001B[0;32m   1894\u001B[0m     result \u001B[38;5;241m=\u001B[39m np\u001B[38;5;241m.\u001B[39marray(result, dtype\u001B[38;5;241m=\u001B[39mdtype, copy\u001B[38;5;241m=\u001B[39m\u001B[38;5;28;01mFalse\u001B[39;00m)\n",
      "File \u001B[1;32m~\\AppData\\Local\\Programs\\Python\\Python310\\lib\\site-packages\\pandas\\core\\internals\\managers.py:1656\u001B[0m, in \u001B[0;36mBlockManager.as_array\u001B[1;34m(self, dtype, copy, na_value)\u001B[0m\n\u001B[0;32m   1654\u001B[0m         arr\u001B[38;5;241m.\u001B[39mflags\u001B[38;5;241m.\u001B[39mwriteable \u001B[38;5;241m=\u001B[39m \u001B[38;5;28;01mFalse\u001B[39;00m\n\u001B[0;32m   1655\u001B[0m \u001B[38;5;28;01melse\u001B[39;00m:\n\u001B[1;32m-> 1656\u001B[0m     arr \u001B[38;5;241m=\u001B[39m \u001B[38;5;28;43mself\u001B[39;49m\u001B[38;5;241;43m.\u001B[39;49m\u001B[43m_interleave\u001B[49m\u001B[43m(\u001B[49m\u001B[43mdtype\u001B[49m\u001B[38;5;241;43m=\u001B[39;49m\u001B[43mdtype\u001B[49m\u001B[43m,\u001B[49m\u001B[43m \u001B[49m\u001B[43mna_value\u001B[49m\u001B[38;5;241;43m=\u001B[39;49m\u001B[43mna_value\u001B[49m\u001B[43m)\u001B[49m\n\u001B[0;32m   1657\u001B[0m     \u001B[38;5;66;03m# The underlying data was copied within _interleave, so no need\u001B[39;00m\n\u001B[0;32m   1658\u001B[0m     \u001B[38;5;66;03m# to further copy if copy=True or setting na_value\u001B[39;00m\n\u001B[0;32m   1660\u001B[0m \u001B[38;5;28;01mif\u001B[39;00m na_value \u001B[38;5;129;01mis\u001B[39;00m lib\u001B[38;5;241m.\u001B[39mno_default:\n",
      "File \u001B[1;32m~\\AppData\\Local\\Programs\\Python\\Python310\\lib\\site-packages\\pandas\\core\\internals\\managers.py:1715\u001B[0m, in \u001B[0;36mBlockManager._interleave\u001B[1;34m(self, dtype, na_value)\u001B[0m\n\u001B[0;32m   1713\u001B[0m     \u001B[38;5;28;01melse\u001B[39;00m:\n\u001B[0;32m   1714\u001B[0m         arr \u001B[38;5;241m=\u001B[39m blk\u001B[38;5;241m.\u001B[39mget_values(dtype)\n\u001B[1;32m-> 1715\u001B[0m     \u001B[43mresult\u001B[49m\u001B[43m[\u001B[49m\u001B[43mrl\u001B[49m\u001B[38;5;241;43m.\u001B[39;49m\u001B[43mindexer\u001B[49m\u001B[43m]\u001B[49m \u001B[38;5;241m=\u001B[39m arr\n\u001B[0;32m   1716\u001B[0m     itemmask[rl\u001B[38;5;241m.\u001B[39mindexer] \u001B[38;5;241m=\u001B[39m \u001B[38;5;241m1\u001B[39m\n\u001B[0;32m   1718\u001B[0m \u001B[38;5;28;01mif\u001B[39;00m \u001B[38;5;129;01mnot\u001B[39;00m itemmask\u001B[38;5;241m.\u001B[39mall():\n",
      "\u001B[1;31mValueError\u001B[0m: could not convert string to float: 'Нейросети начало'"
     ]
    }
   ],
   "source": [
    "data.corr()"
   ],
   "metadata": {
    "collapsed": false
   }
  },
  {
   "cell_type": "markdown",
   "source": [
    "Чето я туплю наверное, но вроде corr() сам числовые значения выбирает, мб ошибаюсь\n",
    "(разобраться не успеваю)"
   ],
   "metadata": {
    "collapsed": false
   }
  },
  {
   "cell_type": "code",
   "execution_count": 51,
   "outputs": [
    {
     "data": {
      "text/plain": "<Figure size 640x480 with 1 Axes>",
      "image/png": "[encoded data removed]"
     },
     "metadata": {},
     "output_type": "display_data"
    }
   ],
   "source": [
    "plt.scatter(data['pages_count'], data['review_count'])\n",
    "plt.title('Диаграмма рассеяния')\n",
    "plt.xlabel('Количество страниц')\n",
    "plt.ylabel('Количество отзывов')\n",
    "plt.show()"
   ],
   "metadata": {
    "collapsed": false,
    "ExecuteTime": {
     "start_time": "2024-09-04T23:50:45.093010Z",
     "end_time": "2024-09-04T23:50:45.325181Z"
    }
   }
  },
  {
   "cell_type": "code",
   "execution_count": 62,
   "outputs": [
    {
     "ename": "KeyError",
     "evalue": "'year'",
     "output_type": "error",
     "traceback": [
      "\u001B[1;31m---------------------------------------------------------------------------\u001B[0m",
      "\u001B[1;31mKeyError\u001B[0m                                  Traceback (most recent call last)",
      "File \u001B[1;32m~\\AppData\\Local\\Programs\\Python\\Python310\\lib\\site-packages\\pandas\\core\\indexes\\base.py:3790\u001B[0m, in \u001B[0;36mIndex.get_loc\u001B[1;34m(self, key)\u001B[0m\n\u001B[0;32m   3789\u001B[0m \u001B[38;5;28;01mtry\u001B[39;00m:\n\u001B[1;32m-> 3790\u001B[0m     \u001B[38;5;28;01mreturn\u001B[39;00m \u001B[38;5;28;43mself\u001B[39;49m\u001B[38;5;241;43m.\u001B[39;49m\u001B[43m_engine\u001B[49m\u001B[38;5;241;43m.\u001B[39;49m\u001B[43mget_loc\u001B[49m\u001B[43m(\u001B[49m\u001B[43mcasted_key\u001B[49m\u001B[43m)\u001B[49m\n\u001B[0;32m   3791\u001B[0m \u001B[38;5;28;01mexcept\u001B[39;00m \u001B[38;5;167;01mKeyError\u001B[39;00m \u001B[38;5;28;01mas\u001B[39;00m err:\n",
      "File \u001B[1;32mindex.pyx:152\u001B[0m, in \u001B[0;36mpandas._libs.index.IndexEngine.get_loc\u001B[1;34m()\u001B[0m\n",
      "File \u001B[1;32mindex.pyx:160\u001B[0m, in \u001B[0;36mpandas._libs.index.IndexEngine.get_loc\u001B[1;34m()\u001B[0m\n",
      "File \u001B[1;32mpandas\\_libs\\index_class_helper.pxi:70\u001B[0m, in \u001B[0;36mpandas._libs.index.Int64Engine._check_type\u001B[1;34m()\u001B[0m\n",
      "\u001B[1;31mKeyError\u001B[0m: 'year'",
      "\nThe above exception was the direct cause of the following exception:\n",
      "\u001B[1;31mKeyError\u001B[0m                                  Traceback (most recent call last)",
      "Cell \u001B[1;32mIn[62], line 2\u001B[0m\n\u001B[0;32m      1\u001B[0m data_books \u001B[38;5;241m=\u001B[39m data[\u001B[38;5;124m'\u001B[39m\u001B[38;5;124myear\u001B[39m\u001B[38;5;124m'\u001B[39m]\u001B[38;5;241m.\u001B[39mvalue_counts()\n\u001B[1;32m----> 2\u001B[0m data_books \u001B[38;5;241m=\u001B[39m \u001B[43mdata_books\u001B[49m\u001B[43m[\u001B[49m\u001B[38;5;124;43m'\u001B[39;49m\u001B[38;5;124;43myear\u001B[39;49m\u001B[38;5;124;43m'\u001B[39;49m\u001B[43m]\u001B[49m\u001B[38;5;241m.\u001B[39msort_values()\n\u001B[0;32m      3\u001B[0m data_books\u001B[38;5;241m.\u001B[39mplot()\n\u001B[0;32m      4\u001B[0m plt\u001B[38;5;241m.\u001B[39mtitle(\u001B[38;5;124m'\u001B[39m\u001B[38;5;124mКоличество книг по годам\u001B[39m\u001B[38;5;124m'\u001B[39m)\n",
      "File \u001B[1;32m~\\AppData\\Local\\Programs\\Python\\Python310\\lib\\site-packages\\pandas\\core\\series.py:1040\u001B[0m, in \u001B[0;36mSeries.__getitem__\u001B[1;34m(self, key)\u001B[0m\n\u001B[0;32m   1037\u001B[0m     \u001B[38;5;28;01mreturn\u001B[39;00m \u001B[38;5;28mself\u001B[39m\u001B[38;5;241m.\u001B[39m_values[key]\n\u001B[0;32m   1039\u001B[0m \u001B[38;5;28;01melif\u001B[39;00m key_is_scalar:\n\u001B[1;32m-> 1040\u001B[0m     \u001B[38;5;28;01mreturn\u001B[39;00m \u001B[38;5;28;43mself\u001B[39;49m\u001B[38;5;241;43m.\u001B[39;49m\u001B[43m_get_value\u001B[49m\u001B[43m(\u001B[49m\u001B[43mkey\u001B[49m\u001B[43m)\u001B[49m\n\u001B[0;32m   1042\u001B[0m \u001B[38;5;66;03m# Convert generator to list before going through hashable part\u001B[39;00m\n\u001B[0;32m   1043\u001B[0m \u001B[38;5;66;03m# (We will iterate through the generator there to check for slices)\u001B[39;00m\n\u001B[0;32m   1044\u001B[0m \u001B[38;5;28;01mif\u001B[39;00m is_iterator(key):\n",
      "File \u001B[1;32m~\\AppData\\Local\\Programs\\Python\\Python310\\lib\\site-packages\\pandas\\core\\series.py:1156\u001B[0m, in \u001B[0;36mSeries._get_value\u001B[1;34m(self, label, takeable)\u001B[0m\n\u001B[0;32m   1153\u001B[0m     \u001B[38;5;28;01mreturn\u001B[39;00m \u001B[38;5;28mself\u001B[39m\u001B[38;5;241m.\u001B[39m_values[label]\n\u001B[0;32m   1155\u001B[0m \u001B[38;5;66;03m# Similar to Index.get_value, but we do not fall back to positional\u001B[39;00m\n\u001B[1;32m-> 1156\u001B[0m loc \u001B[38;5;241m=\u001B[39m \u001B[38;5;28;43mself\u001B[39;49m\u001B[38;5;241;43m.\u001B[39;49m\u001B[43mindex\u001B[49m\u001B[38;5;241;43m.\u001B[39;49m\u001B[43mget_loc\u001B[49m\u001B[43m(\u001B[49m\u001B[43mlabel\u001B[49m\u001B[43m)\u001B[49m\n\u001B[0;32m   1158\u001B[0m \u001B[38;5;28;01mif\u001B[39;00m is_integer(loc):\n\u001B[0;32m   1159\u001B[0m     \u001B[38;5;28;01mreturn\u001B[39;00m \u001B[38;5;28mself\u001B[39m\u001B[38;5;241m.\u001B[39m_values[loc]\n",
      "File \u001B[1;32m~\\AppData\\Local\\Programs\\Python\\Python310\\lib\\site-packages\\pandas\\core\\indexes\\base.py:3797\u001B[0m, in \u001B[0;36mIndex.get_loc\u001B[1;34m(self, key)\u001B[0m\n\u001B[0;32m   3792\u001B[0m     \u001B[38;5;28;01mif\u001B[39;00m \u001B[38;5;28misinstance\u001B[39m(casted_key, \u001B[38;5;28mslice\u001B[39m) \u001B[38;5;129;01mor\u001B[39;00m (\n\u001B[0;32m   3793\u001B[0m         \u001B[38;5;28misinstance\u001B[39m(casted_key, abc\u001B[38;5;241m.\u001B[39mIterable)\n\u001B[0;32m   3794\u001B[0m         \u001B[38;5;129;01mand\u001B[39;00m \u001B[38;5;28many\u001B[39m(\u001B[38;5;28misinstance\u001B[39m(x, \u001B[38;5;28mslice\u001B[39m) \u001B[38;5;28;01mfor\u001B[39;00m x \u001B[38;5;129;01min\u001B[39;00m casted_key)\n\u001B[0;32m   3795\u001B[0m     ):\n\u001B[0;32m   3796\u001B[0m         \u001B[38;5;28;01mraise\u001B[39;00m InvalidIndexError(key)\n\u001B[1;32m-> 3797\u001B[0m     \u001B[38;5;28;01mraise\u001B[39;00m \u001B[38;5;167;01mKeyError\u001B[39;00m(key) \u001B[38;5;28;01mfrom\u001B[39;00m \u001B[38;5;21;01merr\u001B[39;00m\n\u001B[0;32m   3798\u001B[0m \u001B[38;5;28;01mexcept\u001B[39;00m \u001B[38;5;167;01mTypeError\u001B[39;00m:\n\u001B[0;32m   3799\u001B[0m     \u001B[38;5;66;03m# If we have a listlike key, _check_indexing_error will raise\u001B[39;00m\n\u001B[0;32m   3800\u001B[0m     \u001B[38;5;66;03m#  InvalidIndexError. Otherwise we fall through and re-raise\u001B[39;00m\n\u001B[0;32m   3801\u001B[0m     \u001B[38;5;66;03m#  the TypeError.\u001B[39;00m\n\u001B[0;32m   3802\u001B[0m     \u001B[38;5;28mself\u001B[39m\u001B[38;5;241m.\u001B[39m_check_indexing_error(key)\n",
      "\u001B[1;31mKeyError\u001B[0m: 'year'"
     ]
    }
   ],
   "source": [
    "data_books = data['year'].value_counts()\n",
    "data_books = data_books['year'].sort_values()\n",
    "data_books.plot()\n",
    "plt.title('Количество книг по годам')\n",
    "plt.xlabel('Год')\n",
    "plt.ylabel('Количество книг')\n",
    "plt.show()"
   ],
   "metadata": {
    "collapsed": false,
    "ExecuteTime": {
     "start_time": "2024-09-04T23:54:32.379572Z",
     "end_time": "2024-09-04T23:54:32.629333Z"
    }
   }
  }
 ],
 "metadata": {
  "kernelspec": {
   "display_name": "Python 3",
   "language": "python",
   "name": "python3"
  },
  "language_info": {
   "codemirror_mode": {
    "name": "ipython",
    "version": 2
   },
   "file_extension": ".py",
   "mimetype": "text/x-python",
   "name": "python",
   "nbconvert_exporter": "python",
   "pygments_lexer": "ipython2",
   "version": "2.7.6"
  }
 },
 "nbformat": 4,
 "nbformat_minor": 0
}
